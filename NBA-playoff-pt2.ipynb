{
 "cells": [
  {
   "cell_type": "markdown",
   "metadata": {},
   "source": [
    "# Objective\n",
    "\n",
    "This project will be an open-ended investigation into the dataset you chose for project 3; you will pose a prediction problem and train a model to solve it. You will follow the steps given below:\n",
    "\n",
    "1. Explore the NBA datasets available on: basketball-reference.com.\n",
    "1. Clearly state and frame a classification problem to find an accurate solution for.\n",
    "1. Train a \"baseline\" model with generic set of features created for different kinds of data (e.g. ordinal encoding, one-hot encoding).\n",
    "1. Engineer at least two new features from the data that improve your baseline model.\n",
    "1. Create an `sklearn` ML-pipeline; do a search for the best model and parameters using the pipeline.\n",
    "1. Do an inference analysis on the results (i.e. does my model perform better on attribute X vs Y?)."
   ]
  },
  {
   "cell_type": "code",
   "execution_count": 167,
   "metadata": {},
   "outputs": [],
   "source": [
    "%matplotlib inline\n",
    "import pandas as pd\n",
    "import numpy as np\n",
    "import util\n",
    "import os\n",
    "\n",
    "from sklearn.preprocessing import FunctionTransformer\n",
    "from sklearn.pipeline import Pipeline\n",
    "\n",
    "from sklearn.neighbors import KNeighborsClassifier\n",
    "from sklearn.model_selection import train_test_split\n",
    "\n",
    "import matplotlib.pyplot as plt\n",
    "\n",
    "import warnings\n",
    "warnings.filterwarnings(\"ignore\")"
   ]
  },
  {
   "cell_type": "markdown",
   "metadata": {},
   "source": [
    "---\n",
    "# Summary of Findings\n",
    "\n",
    "\n",
    "## Introduction\n",
    "---\n",
    "State the prediction problem you are attempting, if it's a classification or regression problem, explain your choice of target variable and evaluation metric (objective).\n",
    "\n",
    "Our classification problem we attempted was determining if NBA players were going to underperform or not during the playoffs. We chose our target variable to be called \"Underperformed\" which took on the value of a 1 or a 0. We had to engineer this target variable by first, defining 'underperformance' as a player having lower statistics during their playoffs compared to the league. We decided to work with the following statistics: '3P%', '2P%', and 'eFG%'. We chose to use statistics that were percents becasue the other statistics were running totals. Since there are less playoff games compared to league games, these statistics could not be as easily caculated to scale. Additionally, using domain knowledge, the difference of we decided to account for some deviation in \"underperformance\"; becasue, for example, a 1% difference in FG% or 3P% is not really considered an \"underperformance\". Therefore, we allowed our for the difference in league and playoff statistics chosen for the model to differ by 10%. The object of our model is to classify underperformance with high accuracy.\n",
    "\n",
    "\n",
    "### Results: Baseline Model\n",
    "---\n",
    "A summary of the baseline model:\n",
    "The number of features, including how many are quantitative, ordinal, and nominal.\n",
    "The model performance (your evaluation metric) and whether you think this it's good or not (and why).\n",
    "\n",
    "We designed a model with the following features: \n",
    "Quantitative columns: Untouched\n",
    "Ordinal Columns: none\n",
    "Nominal Columns:none\n",
    "\n",
    "We chose to use KNeighborsClassifier() as the estimator for our baseline.\n",
    "\n",
    "### Results: Final Model\n",
    "---\n",
    "A summary of the improved model:\n",
    "The features you added and why they are good for your data.\n",
    "The model type you chose; the parameters that ended up performing best; the method of model selection used.\n",
    "\n",
    "After training the baseline model, we got an accuracy of around .8 (or 80 percent). We then ran a GridSearchCV onto our data and then got an accuracy score of .85. With the KNNeighbors classification, we felt like this accuracy score was fairly good and inline with our results that we got from our baseline model. We ran the best parameters and got n neighbors of 18, uniform weights and Manhattan for matrics. With our score of around .8 and a standard deviation average of around .015, we feel like our model is fairly accurate. \n",
    "\n",
    "Analysis: We mainly tried our model on two different classifications. We originally did our classification based on a Decision Tree Classifier. With this model, we kept getting an accuracy score of 1.0. Although that may sound great, we knew that consistently having an accuracy score of 1.0 meant that we were overfitting the model, which is definitely not a good thing. We then changed our model to the KNNeighbors Classification, and with that, we then consistently got an accuracy score of .8. With this, we feel like it would be a better model as it fits the model well, but is not consistently overfitted like the Decision Tree Classifier.  \n",
    "\n",
    "\n",
    "### Results: Fairness Evaluation\n",
    "---\n",
    "Evaluate your model for \"fairness\" on an interesting subset of the data using a permutation test. Justify the parity measure you are using.\n",
    "\n",
    "---"
   ]
  },
  {
   "cell_type": "markdown",
   "metadata": {},
   "source": [
    "## Baseline Model\n",
    "---"
   ]
  },
  {
   "cell_type": "markdown",
   "metadata": {},
   "source": [
    "Since all of our statistics we used in our baseline model were quantatitative, we did not need to use an OrdinalEncoder() or OneHotEncoder()."
   ]
  },
  {
   "cell_type": "code",
   "execution_count": 170,
   "metadata": {},
   "outputs": [
    {
     "data": {
      "text/html": [
       "<div>\n",
       "<style scoped>\n",
       "    .dataframe tbody tr th:only-of-type {\n",
       "        vertical-align: middle;\n",
       "    }\n",
       "\n",
       "    .dataframe tbody tr th {\n",
       "        vertical-align: top;\n",
       "    }\n",
       "\n",
       "    .dataframe thead th {\n",
       "        text-align: right;\n",
       "    }\n",
       "</style>\n",
       "<table border=\"1\" class=\"dataframe\">\n",
       "  <thead>\n",
       "    <tr style=\"text-align: right;\">\n",
       "      <th></th>\n",
       "      <th>Player</th>\n",
       "      <th>Pos</th>\n",
       "      <th>Age</th>\n",
       "      <th>Tm</th>\n",
       "      <th>G_league</th>\n",
       "      <th>GS_league</th>\n",
       "      <th>MP_league</th>\n",
       "      <th>FG_league</th>\n",
       "      <th>FGA_league</th>\n",
       "      <th>FG%_league</th>\n",
       "      <th>...</th>\n",
       "      <th>ORB_playoff</th>\n",
       "      <th>DRB_playoff</th>\n",
       "      <th>TRB_playoff</th>\n",
       "      <th>AST_playoff</th>\n",
       "      <th>STL_playoff</th>\n",
       "      <th>BLK_playoff</th>\n",
       "      <th>TOV_playoff</th>\n",
       "      <th>PF_playoff</th>\n",
       "      <th>PTS_playoff</th>\n",
       "      <th>Year</th>\n",
       "    </tr>\n",
       "  </thead>\n",
       "  <tbody>\n",
       "    <tr>\n",
       "      <th>0</th>\n",
       "      <td>Jeff Adrien</td>\n",
       "      <td>PF</td>\n",
       "      <td>25.0</td>\n",
       "      <td>HOU</td>\n",
       "      <td>8.0</td>\n",
       "      <td>0.0</td>\n",
       "      <td>63.0</td>\n",
       "      <td>7.0</td>\n",
       "      <td>16.0</td>\n",
       "      <td>0.438</td>\n",
       "      <td>...</td>\n",
       "      <td>NaN</td>\n",
       "      <td>NaN</td>\n",
       "      <td>NaN</td>\n",
       "      <td>NaN</td>\n",
       "      <td>NaN</td>\n",
       "      <td>NaN</td>\n",
       "      <td>NaN</td>\n",
       "      <td>NaN</td>\n",
       "      <td>NaN</td>\n",
       "      <td>2012</td>\n",
       "    </tr>\n",
       "    <tr>\n",
       "      <th>1</th>\n",
       "      <td>Arron Afflalo</td>\n",
       "      <td>SG</td>\n",
       "      <td>26.0</td>\n",
       "      <td>DEN</td>\n",
       "      <td>62.0</td>\n",
       "      <td>62.0</td>\n",
       "      <td>2086.0</td>\n",
       "      <td>329.0</td>\n",
       "      <td>699.0</td>\n",
       "      <td>0.471</td>\n",
       "      <td>...</td>\n",
       "      <td>5.0</td>\n",
       "      <td>20.0</td>\n",
       "      <td>25.0</td>\n",
       "      <td>19.0</td>\n",
       "      <td>5.0</td>\n",
       "      <td>2.0</td>\n",
       "      <td>9.0</td>\n",
       "      <td>14.0</td>\n",
       "      <td>76.0</td>\n",
       "      <td>2012</td>\n",
       "    </tr>\n",
       "    <tr>\n",
       "      <th>2</th>\n",
       "      <td>Blake Ahearn</td>\n",
       "      <td>PG</td>\n",
       "      <td>27.0</td>\n",
       "      <td>UTA</td>\n",
       "      <td>4.0</td>\n",
       "      <td>0.0</td>\n",
       "      <td>30.0</td>\n",
       "      <td>4.0</td>\n",
       "      <td>14.0</td>\n",
       "      <td>0.286</td>\n",
       "      <td>...</td>\n",
       "      <td>0.0</td>\n",
       "      <td>0.0</td>\n",
       "      <td>0.0</td>\n",
       "      <td>2.0</td>\n",
       "      <td>0.0</td>\n",
       "      <td>0.0</td>\n",
       "      <td>0.0</td>\n",
       "      <td>0.0</td>\n",
       "      <td>5.0</td>\n",
       "      <td>2012</td>\n",
       "    </tr>\n",
       "    <tr>\n",
       "      <th>3</th>\n",
       "      <td>Solomon Alabi</td>\n",
       "      <td>C</td>\n",
       "      <td>23.0</td>\n",
       "      <td>TOR</td>\n",
       "      <td>14.0</td>\n",
       "      <td>0.0</td>\n",
       "      <td>122.0</td>\n",
       "      <td>13.0</td>\n",
       "      <td>36.0</td>\n",
       "      <td>0.361</td>\n",
       "      <td>...</td>\n",
       "      <td>NaN</td>\n",
       "      <td>NaN</td>\n",
       "      <td>NaN</td>\n",
       "      <td>NaN</td>\n",
       "      <td>NaN</td>\n",
       "      <td>NaN</td>\n",
       "      <td>NaN</td>\n",
       "      <td>NaN</td>\n",
       "      <td>NaN</td>\n",
       "      <td>2012</td>\n",
       "    </tr>\n",
       "    <tr>\n",
       "      <th>4</th>\n",
       "      <td>Cole Aldrich</td>\n",
       "      <td>C</td>\n",
       "      <td>23.0</td>\n",
       "      <td>OKC</td>\n",
       "      <td>26.0</td>\n",
       "      <td>0.0</td>\n",
       "      <td>173.0</td>\n",
       "      <td>22.0</td>\n",
       "      <td>42.0</td>\n",
       "      <td>0.524</td>\n",
       "      <td>...</td>\n",
       "      <td>5.0</td>\n",
       "      <td>8.0</td>\n",
       "      <td>13.0</td>\n",
       "      <td>0.0</td>\n",
       "      <td>0.0</td>\n",
       "      <td>0.0</td>\n",
       "      <td>0.0</td>\n",
       "      <td>3.0</td>\n",
       "      <td>10.0</td>\n",
       "      <td>2012</td>\n",
       "    </tr>\n",
       "  </tbody>\n",
       "</table>\n",
       "<p>5 rows × 55 columns</p>\n",
       "</div>"
      ],
      "text/plain": [
       "          Player Pos   Age   Tm  G_league  GS_league  MP_league  FG_league  \\\n",
       "0    Jeff Adrien  PF  25.0  HOU       8.0        0.0       63.0        7.0   \n",
       "1  Arron Afflalo  SG  26.0  DEN      62.0       62.0     2086.0      329.0   \n",
       "2   Blake Ahearn  PG  27.0  UTA       4.0        0.0       30.0        4.0   \n",
       "3  Solomon Alabi   C  23.0  TOR      14.0        0.0      122.0       13.0   \n",
       "4   Cole Aldrich   C  23.0  OKC      26.0        0.0      173.0       22.0   \n",
       "\n",
       "   FGA_league  FG%_league  ...  ORB_playoff  DRB_playoff  TRB_playoff  \\\n",
       "0        16.0       0.438  ...          NaN          NaN          NaN   \n",
       "1       699.0       0.471  ...          5.0         20.0         25.0   \n",
       "2        14.0       0.286  ...          0.0          0.0          0.0   \n",
       "3        36.0       0.361  ...          NaN          NaN          NaN   \n",
       "4        42.0       0.524  ...          5.0          8.0         13.0   \n",
       "\n",
       "   AST_playoff  STL_playoff  BLK_playoff  TOV_playoff  PF_playoff  \\\n",
       "0          NaN          NaN          NaN          NaN         NaN   \n",
       "1         19.0          5.0          2.0          9.0        14.0   \n",
       "2          2.0          0.0          0.0          0.0         0.0   \n",
       "3          NaN          NaN          NaN          NaN         NaN   \n",
       "4          0.0          0.0          0.0          0.0         3.0   \n",
       "\n",
       "   PTS_playoff  Year  \n",
       "0          NaN  2012  \n",
       "1         76.0  2012  \n",
       "2          5.0  2012  \n",
       "3          NaN  2012  \n",
       "4         10.0  2012  \n",
       "\n",
       "[5 rows x 55 columns]"
      ]
     },
     "execution_count": 170,
     "metadata": {},
     "output_type": "execute_result"
    }
   ],
   "source": [
    "nba = pd.read_csv('data/combined.csv')\n",
    "# load cleaned csv from project3\n",
    "nba = nba.drop(['Unnamed: 0', 'Pos_playoff', 'Age_playoff', 'Tm_playoff'], axis=1).rename(columns={'Pos_league': 'Pos', 'Age_league': 'Age', 'Tm_league': 'Tm'})\n",
    "data = nba.copy()\n",
    "data.head()"
   ]
  },
  {
   "cell_type": "code",
   "execution_count": 171,
   "metadata": {
    "scrolled": true
   },
   "outputs": [
    {
     "data": {
      "text/html": [
       "<div>\n",
       "<style scoped>\n",
       "    .dataframe tbody tr th:only-of-type {\n",
       "        vertical-align: middle;\n",
       "    }\n",
       "\n",
       "    .dataframe tbody tr th {\n",
       "        vertical-align: top;\n",
       "    }\n",
       "\n",
       "    .dataframe thead th {\n",
       "        text-align: right;\n",
       "    }\n",
       "</style>\n",
       "<table border=\"1\" class=\"dataframe\">\n",
       "  <thead>\n",
       "    <tr style=\"text-align: right;\">\n",
       "      <th></th>\n",
       "      <th>Player</th>\n",
       "      <th>Pos</th>\n",
       "      <th>Age</th>\n",
       "      <th>Tm</th>\n",
       "      <th>G_league</th>\n",
       "      <th>GS_league</th>\n",
       "      <th>MP_league</th>\n",
       "      <th>FG_league</th>\n",
       "      <th>FGA_league</th>\n",
       "      <th>FG%_league</th>\n",
       "      <th>...</th>\n",
       "      <th>TRB_playoff</th>\n",
       "      <th>AST_playoff</th>\n",
       "      <th>STL_playoff</th>\n",
       "      <th>BLK_playoff</th>\n",
       "      <th>TOV_playoff</th>\n",
       "      <th>PF_playoff</th>\n",
       "      <th>PTS_playoff</th>\n",
       "      <th>Year</th>\n",
       "      <th>%UnderPerformed</th>\n",
       "      <th>UnderPerformed</th>\n",
       "    </tr>\n",
       "  </thead>\n",
       "  <tbody>\n",
       "    <tr>\n",
       "      <th>0</th>\n",
       "      <td>Jeff Adrien</td>\n",
       "      <td>PF</td>\n",
       "      <td>25.0</td>\n",
       "      <td>HOU</td>\n",
       "      <td>8.0</td>\n",
       "      <td>0.0</td>\n",
       "      <td>63.0</td>\n",
       "      <td>7.0</td>\n",
       "      <td>16.0</td>\n",
       "      <td>0.438</td>\n",
       "      <td>...</td>\n",
       "      <td>NaN</td>\n",
       "      <td>NaN</td>\n",
       "      <td>NaN</td>\n",
       "      <td>NaN</td>\n",
       "      <td>NaN</td>\n",
       "      <td>NaN</td>\n",
       "      <td>NaN</td>\n",
       "      <td>2012</td>\n",
       "      <td>NaN</td>\n",
       "      <td>NaN</td>\n",
       "    </tr>\n",
       "    <tr>\n",
       "      <th>1</th>\n",
       "      <td>Arron Afflalo</td>\n",
       "      <td>SG</td>\n",
       "      <td>26.0</td>\n",
       "      <td>DEN</td>\n",
       "      <td>62.0</td>\n",
       "      <td>62.0</td>\n",
       "      <td>2086.0</td>\n",
       "      <td>329.0</td>\n",
       "      <td>699.0</td>\n",
       "      <td>0.471</td>\n",
       "      <td>...</td>\n",
       "      <td>25.0</td>\n",
       "      <td>19.0</td>\n",
       "      <td>5.0</td>\n",
       "      <td>2.0</td>\n",
       "      <td>9.0</td>\n",
       "      <td>14.0</td>\n",
       "      <td>76.0</td>\n",
       "      <td>2012</td>\n",
       "      <td>-0.107667</td>\n",
       "      <td>1.0</td>\n",
       "    </tr>\n",
       "    <tr>\n",
       "      <th>2</th>\n",
       "      <td>Blake Ahearn</td>\n",
       "      <td>PG</td>\n",
       "      <td>27.0</td>\n",
       "      <td>UTA</td>\n",
       "      <td>4.0</td>\n",
       "      <td>0.0</td>\n",
       "      <td>30.0</td>\n",
       "      <td>4.0</td>\n",
       "      <td>14.0</td>\n",
       "      <td>0.286</td>\n",
       "      <td>...</td>\n",
       "      <td>0.0</td>\n",
       "      <td>2.0</td>\n",
       "      <td>0.0</td>\n",
       "      <td>0.0</td>\n",
       "      <td>0.0</td>\n",
       "      <td>0.0</td>\n",
       "      <td>5.0</td>\n",
       "      <td>2012</td>\n",
       "      <td>0.451333</td>\n",
       "      <td>0.0</td>\n",
       "    </tr>\n",
       "    <tr>\n",
       "      <th>3</th>\n",
       "      <td>Solomon Alabi</td>\n",
       "      <td>C</td>\n",
       "      <td>23.0</td>\n",
       "      <td>TOR</td>\n",
       "      <td>14.0</td>\n",
       "      <td>0.0</td>\n",
       "      <td>122.0</td>\n",
       "      <td>13.0</td>\n",
       "      <td>36.0</td>\n",
       "      <td>0.361</td>\n",
       "      <td>...</td>\n",
       "      <td>NaN</td>\n",
       "      <td>NaN</td>\n",
       "      <td>NaN</td>\n",
       "      <td>NaN</td>\n",
       "      <td>NaN</td>\n",
       "      <td>NaN</td>\n",
       "      <td>NaN</td>\n",
       "      <td>2012</td>\n",
       "      <td>NaN</td>\n",
       "      <td>NaN</td>\n",
       "    </tr>\n",
       "    <tr>\n",
       "      <th>4</th>\n",
       "      <td>Cole Aldrich</td>\n",
       "      <td>C</td>\n",
       "      <td>23.0</td>\n",
       "      <td>OKC</td>\n",
       "      <td>26.0</td>\n",
       "      <td>0.0</td>\n",
       "      <td>173.0</td>\n",
       "      <td>22.0</td>\n",
       "      <td>42.0</td>\n",
       "      <td>0.524</td>\n",
       "      <td>...</td>\n",
       "      <td>13.0</td>\n",
       "      <td>0.0</td>\n",
       "      <td>0.0</td>\n",
       "      <td>0.0</td>\n",
       "      <td>0.0</td>\n",
       "      <td>3.0</td>\n",
       "      <td>10.0</td>\n",
       "      <td>2012</td>\n",
       "      <td>-0.080000</td>\n",
       "      <td>0.0</td>\n",
       "    </tr>\n",
       "  </tbody>\n",
       "</table>\n",
       "<p>5 rows × 57 columns</p>\n",
       "</div>"
      ],
      "text/plain": [
       "          Player Pos   Age   Tm  G_league  GS_league  MP_league  FG_league  \\\n",
       "0    Jeff Adrien  PF  25.0  HOU       8.0        0.0       63.0        7.0   \n",
       "1  Arron Afflalo  SG  26.0  DEN      62.0       62.0     2086.0      329.0   \n",
       "2   Blake Ahearn  PG  27.0  UTA       4.0        0.0       30.0        4.0   \n",
       "3  Solomon Alabi   C  23.0  TOR      14.0        0.0      122.0       13.0   \n",
       "4   Cole Aldrich   C  23.0  OKC      26.0        0.0      173.0       22.0   \n",
       "\n",
       "   FGA_league  FG%_league  ...  TRB_playoff  AST_playoff  STL_playoff  \\\n",
       "0        16.0       0.438  ...          NaN          NaN          NaN   \n",
       "1       699.0       0.471  ...         25.0         19.0          5.0   \n",
       "2        14.0       0.286  ...          0.0          2.0          0.0   \n",
       "3        36.0       0.361  ...          NaN          NaN          NaN   \n",
       "4        42.0       0.524  ...         13.0          0.0          0.0   \n",
       "\n",
       "   BLK_playoff  TOV_playoff  PF_playoff  PTS_playoff  Year  %UnderPerformed  \\\n",
       "0          NaN          NaN         NaN          NaN  2012              NaN   \n",
       "1          2.0          9.0        14.0         76.0  2012        -0.107667   \n",
       "2          0.0          0.0         0.0          5.0  2012         0.451333   \n",
       "3          NaN          NaN         NaN          NaN  2012              NaN   \n",
       "4          0.0          0.0         3.0         10.0  2012        -0.080000   \n",
       "\n",
       "   UnderPerformed  \n",
       "0             NaN  \n",
       "1             1.0  \n",
       "2             0.0  \n",
       "3             NaN  \n",
       "4             0.0  \n",
       "\n",
       "[5 rows x 57 columns]"
      ]
     },
     "execution_count": 171,
     "metadata": {},
     "output_type": "execute_result"
    }
   ],
   "source": [
    "# creating the target variable using the statistics based on percents\n",
    "\n",
    "all_league = ['3P%_league', '2P%_league', 'eFG%_league']\n",
    "\n",
    "all_playoff = ['3P%_playoff', '2P%_playoff', 'eFG%_playoff']\n",
    "\n",
    "def perf(d):    \n",
    "    d['%UnderPerformed'] = pd.DataFrame(d[all_playoff].values - d[all_league].values).mean(axis=1, skipna=True)\n",
    "    d['UnderPerformed'] = d['%UnderPerformed'].apply(lambda x: np.NaN if str(x) == 'nan' else (1 if x < -0.1 else 0))\n",
    "    return d\n",
    "perf(data).head()"
   ]
  },
  {
   "cell_type": "markdown",
   "metadata": {},
   "source": [
    "Because the missingness in the nba dataset is NMAR, dropping the NaN values does not affect the model. The NaN values dropped were from players who either did not make the playoffs, or who did not make any shot attempts in the columns used in our model."
   ]
  },
  {
   "cell_type": "code",
   "execution_count": 172,
   "metadata": {},
   "outputs": [
    {
     "name": "stdout",
     "output_type": "stream",
     "text": [
      "Accuracy: 0.7957446808510639\n"
     ]
    }
   ],
   "source": [
    "# keep only the columns used in our model\n",
    "drop = ['Player', 'Pos', 'Age', 'Tm', 'G_league', 'GS_league', 'MP_league',\n",
    "       'FG_league', 'FGA_league', 'FG%_league', '3P_league', '3PA_league',\n",
    "       '2P_league', '2PA_league', 'FT_league', 'FTA_league', 'FT%_league', \n",
    "       'PF_league', 'G_playoff', 'GS_playoff', 'MP_playoff',\n",
    "       'FG_playoff', 'FGA_playoff', 'FG%_playoff', '3P_playoff', '3PA_playoff',\n",
    "       '2P_playoff', '2PA_playoff', '2P%_playoff','FT_playoff', 'FTA_playoff', 'FT%_playoff',\n",
    "       'PF_playoff','Year']\n",
    "\n",
    "data = perf(data)\n",
    "data = data.dropna() # cant pass NaN values into pipeline\n",
    "\n",
    "X = data.drop(columns=drop + ['UnderPerformed'], axis=1)\n",
    "y = data.UnderPerformed\n",
    "\n",
    "pl = Pipeline([('dt', KNeighborsClassifier())])\n",
    "X_train, X_test, y_train, y_test = train_test_split(X, y, test_size=0.25)\n",
    "pl.fit(X_train, y_train)\n",
    "print (\"Accuracy: %s\" % pl.score(X_test, y_test))"
   ]
  },
  {
   "cell_type": "markdown",
   "metadata": {},
   "source": [
    "For our baseline model, we did not specify any n_neighbors or other parameters. This high accuracy may be the result of overfitting. In the next section we will modify our model to not only improve the accuracy, but also the robustness (i.e. correctly representing the process of interest)."
   ]
  },
  {
   "cell_type": "code",
   "execution_count": 214,
   "metadata": {},
   "outputs": [
    {
     "data": {
      "text/plain": [
       "[('dt',\n",
       "  KNeighborsClassifier(algorithm='auto', leaf_size=30, metric='minkowski',\n",
       "             metric_params=None, n_jobs=None, n_neighbors=5, p=2,\n",
       "             weights='uniform'))]"
      ]
     },
     "execution_count": 214,
     "metadata": {},
     "output_type": "execute_result"
    }
   ],
   "source": [
    "pl.steps"
   ]
  },
  {
   "cell_type": "markdown",
   "metadata": {},
   "source": [
    "## Improvements\n",
    "\n",
    "Using domain knowledge and looking closer at the distribution of the minutes played in league, we wanted to see if only including player statistics if the player played an average of 865 minutes. We picked this number (the 15th percentile) because the distribution of minutes played was relatively similar 0-25th percentile and we didnt want to get rid of too much of our data."
   ]
  },
  {
   "cell_type": "code",
   "execution_count": 208,
   "metadata": {},
   "outputs": [
    {
     "data": {
      "text/plain": [
       "865.0999999999999"
      ]
     },
     "execution_count": 208,
     "metadata": {},
     "output_type": "execute_result"
    }
   ],
   "source": [
    "q75, q25 = np.percentile(data.MP_league, [75 ,15])\n",
    "iqr = q75 - q25\n",
    "q25"
   ]
  },
  {
   "cell_type": "code",
   "execution_count": 209,
   "metadata": {},
   "outputs": [
    {
     "data": {
      "text/plain": [
       "<matplotlib.axes._subplots.AxesSubplot at 0x2190f92f9b0>"
      ]
     },
     "execution_count": 209,
     "metadata": {},
     "output_type": "execute_result"
    },
    {
     "data": {
      "image/png": "[encoded data removed]",
      "text/plain": [
       "<Figure size 432x288 with 1 Axes>"
      ]
     },
     "metadata": {
      "needs_background": "light"
     },
     "output_type": "display_data"
    }
   ],
   "source": [
    "data.MP_league.plot(kind='hist')"
   ]
  },
  {
   "cell_type": "code",
   "execution_count": 210,
   "metadata": {},
   "outputs": [],
   "source": [
    "# add minimum minutes played\n",
    "data['min_minutes'] = ((((data['MP_league'] / data['G_league']) + (data['MP_playoff'] / data['G_playoff'])) / 2) > q25).replace({True: 1, False:0})"
   ]
  },
  {
   "cell_type": "markdown",
   "metadata": {},
   "source": [
    "We also decided to see if dropping players who only played one season would improve our model."
   ]
  },
  {
   "cell_type": "code",
   "execution_count": 211,
   "metadata": {},
   "outputs": [],
   "source": [
    "# get rid of players who only played one season\n",
    "s = data.Player.value_counts() == 1\n",
    "new = data.set_index('Player', drop=False)\n",
    "new = data.loc[[True for name in new.Player if name in s]]"
   ]
  },
  {
   "cell_type": "markdown",
   "metadata": {},
   "source": [
    "## Final Model\n",
    "---"
   ]
  },
  {
   "cell_type": "markdown",
   "metadata": {},
   "source": [
    "For our final model, we used the improved model and did a search (using Grid Search) for the best model and parameters using the KNNClassifier()."
   ]
  },
  {
   "cell_type": "code",
   "execution_count": 212,
   "metadata": {},
   "outputs": [],
   "source": [
    "from sklearn.model_selection import GridSearchCV"
   ]
  },
  {
   "cell_type": "code",
   "execution_count": 204,
   "metadata": {},
   "outputs": [],
   "source": [
    "new = new.dropna()\n",
    "X = new.drop(columns=drop + ['UnderPerformed'], axis=1)\n",
    "y = new.UnderPerformed\n",
    "X_train, X_test, y_train, y_test = train_test_split(X, y, test_size=0.3)"
   ]
  },
  {
   "cell_type": "code",
   "execution_count": 215,
   "metadata": {},
   "outputs": [
    {
     "data": {
      "text/plain": [
       "{'metric': 'manhattan', 'n_neighbors': 12, 'weights': 'uniform'}"
      ]
     },
     "execution_count": 215,
     "metadata": {},
     "output_type": "execute_result"
    }
   ],
   "source": [
    "# How many combinations are there to search through?\n",
    "\n",
    "parameters = {\n",
    "    'n_neighbors': [2,4,5,6,7,9,10,11,12,13,14,15,18,19], \n",
    "    'weights':['uniform', 'distance'],\n",
    "    'metric':['euclidean', 'manhattan']\n",
    "}\n",
    "clf = GridSearchCV(KNeighborsClassifier(), parameters, cv=5)\n",
    "clf.fit(X_train, y_train)\n",
    "clf.best_params_"
   ]
  },
  {
   "cell_type": "code",
   "execution_count": 216,
   "metadata": {},
   "outputs": [
    {
     "data": {
      "text/plain": [
       "KNeighborsClassifier(algorithm='auto', leaf_size=30, metric='manhattan',\n",
       "           metric_params=None, n_jobs=None, n_neighbors=12, p=2,\n",
       "           weights='uniform')"
      ]
     },
     "execution_count": 216,
     "metadata": {},
     "output_type": "execute_result"
    }
   ],
   "source": [
    "clf_best = clf.best_estimator_\n",
    "clf_best"
   ]
  },
  {
   "cell_type": "markdown",
   "metadata": {},
   "source": [
    "We found that the best patameter was: {'metric': 'manhattan', 'n_neighbors': 12, 'weights': 'uniform'}.\n",
    "But was the \"best parameter\" the only \"best choice\"?\n",
    "\n",
    "Below we ploted the histogram of scores across all models.As you can see there were a lot of models that had relatively accuracy. These high values imply there are actually many good model choices; and our model is robust."
   ]
  },
  {
   "cell_type": "code",
   "execution_count": 217,
   "metadata": {},
   "outputs": [
    {
     "data": {
      "image/png": "[encoded data removed]",
      "text/plain": [
       "<Figure size 432x288 with 1 Axes>"
      ]
     },
     "metadata": {
      "needs_background": "light"
     },
     "output_type": "display_data"
    }
   ],
   "source": [
    "# Each x-value is the score of a different model, corresponding to a choice of parameters\n",
    "\n",
    "plt.hist(clf.cv_results_['mean_test_score'])\n",
    "plt.suptitle('accuracies on validation set for CV');"
   ]
  },
  {
   "cell_type": "markdown",
   "metadata": {},
   "source": [
    "We also plotted the histogram of standard deviations for the CVs. As you can see there were also many small numbers, implying most parameters give stable models."
   ]
  },
  {
   "cell_type": "code",
   "execution_count": 218,
   "metadata": {},
   "outputs": [
    {
     "data": {
      "image/png": "[encoded data removed]",
      "text/plain": [
       "<Figure size 432x288 with 1 Axes>"
      ]
     },
     "metadata": {
      "needs_background": "light"
     },
     "output_type": "display_data"
    }
   ],
   "source": [
    "# Each x-value is the standard deviation for the 5-fold CV for a single model, corresponding to a choice of parameters\n",
    "plt.hist(clf.cv_results_['std_test_score'])\n",
    "plt.suptitle('std deviation of CV scores');"
   ]
  },
  {
   "cell_type": "markdown",
   "metadata": {},
   "source": [
    "## Fairness Evaluation\n",
    "---"
   ]
  },
  {
   "cell_type": "code",
   "execution_count": 162,
   "metadata": {},
   "outputs": [],
   "source": [
    "# Evaluate your model for \"fairness\" on an interesting subset of the data using a permutation test. \n",
    "# Justify the parity measure you are using.\n",
    "from sklearn import metrics"
   ]
  },
  {
   "cell_type": "code",
   "execution_count": 222,
   "metadata": {},
   "outputs": [
    {
     "data": {
      "text/plain": [
       "SG       262\n",
       "PG       226\n",
       "SF       198\n",
       "PF       168\n",
       "C         73\n",
       "SF-SG      3\n",
       "SG-PG      3\n",
       "SG-SF      2\n",
       "PF-C       2\n",
       "PG-SG      1\n",
       "Name: Pos, dtype: int64"
      ]
     },
     "execution_count": 222,
     "metadata": {},
     "output_type": "execute_result"
    }
   ],
   "source": [
    "perm_data = data.copy()\n",
    "perm_data.Pos.value_counts()"
   ]
  },
  {
   "cell_type": "markdown",
   "metadata": {},
   "source": [
    "To evaluate our model for fairness, we chose to test demographic parity. After looking at the distribution of 'Position' in the NBA dataset, we noticed that there was an uneven distribution. We chose to run a permutation test to see if the proportion of the population for which a player is classified as 'underperforming'  is the same both within the group, players of position 'PF' (Power Forward), and outside the group."
   ]
  },
  {
   "cell_type": "code",
   "execution_count": 224,
   "metadata": {
    "scrolled": false
   },
   "outputs": [
    {
     "data": {
      "text/html": [
       "<div>\n",
       "<style scoped>\n",
       "    .dataframe tbody tr th:only-of-type {\n",
       "        vertical-align: middle;\n",
       "    }\n",
       "\n",
       "    .dataframe tbody tr th {\n",
       "        vertical-align: top;\n",
       "    }\n",
       "\n",
       "    .dataframe thead th {\n",
       "        text-align: right;\n",
       "    }\n",
       "</style>\n",
       "<table border=\"1\" class=\"dataframe\">\n",
       "  <thead>\n",
       "    <tr style=\"text-align: right;\">\n",
       "      <th></th>\n",
       "      <th>Player</th>\n",
       "      <th>Pos</th>\n",
       "      <th>Age</th>\n",
       "      <th>Tm</th>\n",
       "      <th>G_league</th>\n",
       "      <th>GS_league</th>\n",
       "      <th>MP_league</th>\n",
       "      <th>FG_league</th>\n",
       "      <th>FGA_league</th>\n",
       "      <th>FG%_league</th>\n",
       "      <th>...</th>\n",
       "      <th>STL_playoff</th>\n",
       "      <th>BLK_playoff</th>\n",
       "      <th>TOV_playoff</th>\n",
       "      <th>PF_playoff</th>\n",
       "      <th>PTS_playoff</th>\n",
       "      <th>Year</th>\n",
       "      <th>%UnderPerformed</th>\n",
       "      <th>UnderPerformed</th>\n",
       "      <th>min_minutes</th>\n",
       "      <th>isPF</th>\n",
       "    </tr>\n",
       "  </thead>\n",
       "  <tbody>\n",
       "    <tr>\n",
       "      <th>1</th>\n",
       "      <td>Arron Afflalo</td>\n",
       "      <td>SG</td>\n",
       "      <td>26.0</td>\n",
       "      <td>DEN</td>\n",
       "      <td>62.0</td>\n",
       "      <td>62.0</td>\n",
       "      <td>2086.0</td>\n",
       "      <td>329.0</td>\n",
       "      <td>699.0</td>\n",
       "      <td>0.471</td>\n",
       "      <td>...</td>\n",
       "      <td>5.0</td>\n",
       "      <td>2.0</td>\n",
       "      <td>9.0</td>\n",
       "      <td>14.0</td>\n",
       "      <td>76.0</td>\n",
       "      <td>2012</td>\n",
       "      <td>-0.107667</td>\n",
       "      <td>1.0</td>\n",
       "      <td>0</td>\n",
       "      <td>0</td>\n",
       "    </tr>\n",
       "    <tr>\n",
       "      <th>7</th>\n",
       "      <td>Ray Allen*</td>\n",
       "      <td>SG</td>\n",
       "      <td>36.0</td>\n",
       "      <td>BOS</td>\n",
       "      <td>46.0</td>\n",
       "      <td>42.0</td>\n",
       "      <td>1565.0</td>\n",
       "      <td>226.0</td>\n",
       "      <td>493.0</td>\n",
       "      <td>0.458</td>\n",
       "      <td>...</td>\n",
       "      <td>17.0</td>\n",
       "      <td>2.0</td>\n",
       "      <td>17.0</td>\n",
       "      <td>41.0</td>\n",
       "      <td>192.0</td>\n",
       "      <td>2012</td>\n",
       "      <td>-0.064000</td>\n",
       "      <td>0.0</td>\n",
       "      <td>0</td>\n",
       "      <td>0</td>\n",
       "    </tr>\n",
       "    <tr>\n",
       "      <th>8</th>\n",
       "      <td>Tony Allen</td>\n",
       "      <td>SG</td>\n",
       "      <td>30.0</td>\n",
       "      <td>MEM</td>\n",
       "      <td>58.0</td>\n",
       "      <td>57.0</td>\n",
       "      <td>1525.0</td>\n",
       "      <td>210.0</td>\n",
       "      <td>448.0</td>\n",
       "      <td>0.469</td>\n",
       "      <td>...</td>\n",
       "      <td>9.0</td>\n",
       "      <td>7.0</td>\n",
       "      <td>10.0</td>\n",
       "      <td>21.0</td>\n",
       "      <td>48.0</td>\n",
       "      <td>2012</td>\n",
       "      <td>-0.138333</td>\n",
       "      <td>1.0</td>\n",
       "      <td>0</td>\n",
       "      <td>0</td>\n",
       "    </tr>\n",
       "    <tr>\n",
       "      <th>14</th>\n",
       "      <td>James Anderson</td>\n",
       "      <td>SG</td>\n",
       "      <td>22.0</td>\n",
       "      <td>SAS</td>\n",
       "      <td>51.0</td>\n",
       "      <td>2.0</td>\n",
       "      <td>603.0</td>\n",
       "      <td>66.0</td>\n",
       "      <td>174.0</td>\n",
       "      <td>0.379</td>\n",
       "      <td>...</td>\n",
       "      <td>1.0</td>\n",
       "      <td>0.0</td>\n",
       "      <td>0.0</td>\n",
       "      <td>1.0</td>\n",
       "      <td>11.0</td>\n",
       "      <td>2012</td>\n",
       "      <td>0.100000</td>\n",
       "      <td>0.0</td>\n",
       "      <td>0</td>\n",
       "      <td>0</td>\n",
       "    </tr>\n",
       "    <tr>\n",
       "      <th>15</th>\n",
       "      <td>Ryan Anderson</td>\n",
       "      <td>PF</td>\n",
       "      <td>23.0</td>\n",
       "      <td>ORL</td>\n",
       "      <td>61.0</td>\n",
       "      <td>61.0</td>\n",
       "      <td>1964.0</td>\n",
       "      <td>332.0</td>\n",
       "      <td>757.0</td>\n",
       "      <td>0.439</td>\n",
       "      <td>...</td>\n",
       "      <td>3.0</td>\n",
       "      <td>2.0</td>\n",
       "      <td>9.0</td>\n",
       "      <td>22.0</td>\n",
       "      <td>48.0</td>\n",
       "      <td>2012</td>\n",
       "      <td>-0.115333</td>\n",
       "      <td>1.0</td>\n",
       "      <td>0</td>\n",
       "      <td>1</td>\n",
       "    </tr>\n",
       "  </tbody>\n",
       "</table>\n",
       "<p>5 rows × 59 columns</p>\n",
       "</div>"
      ],
      "text/plain": [
       "            Player Pos   Age   Tm  G_league  GS_league  MP_league  FG_league  \\\n",
       "1    Arron Afflalo  SG  26.0  DEN      62.0       62.0     2086.0      329.0   \n",
       "7       Ray Allen*  SG  36.0  BOS      46.0       42.0     1565.0      226.0   \n",
       "8       Tony Allen  SG  30.0  MEM      58.0       57.0     1525.0      210.0   \n",
       "14  James Anderson  SG  22.0  SAS      51.0        2.0      603.0       66.0   \n",
       "15   Ryan Anderson  PF  23.0  ORL      61.0       61.0     1964.0      332.0   \n",
       "\n",
       "    FGA_league  FG%_league  ...  STL_playoff  BLK_playoff  TOV_playoff  \\\n",
       "1        699.0       0.471  ...          5.0          2.0          9.0   \n",
       "7        493.0       0.458  ...         17.0          2.0         17.0   \n",
       "8        448.0       0.469  ...          9.0          7.0         10.0   \n",
       "14       174.0       0.379  ...          1.0          0.0          0.0   \n",
       "15       757.0       0.439  ...          3.0          2.0          9.0   \n",
       "\n",
       "    PF_playoff  PTS_playoff  Year  %UnderPerformed  UnderPerformed  \\\n",
       "1         14.0         76.0  2012        -0.107667             1.0   \n",
       "7         41.0        192.0  2012        -0.064000             0.0   \n",
       "8         21.0         48.0  2012        -0.138333             1.0   \n",
       "14         1.0         11.0  2012         0.100000             0.0   \n",
       "15        22.0         48.0  2012        -0.115333             1.0   \n",
       "\n",
       "    min_minutes  isPF  \n",
       "1             0     0  \n",
       "7             0     0  \n",
       "8             0     0  \n",
       "14            0     0  \n",
       "15            0     1  \n",
       "\n",
       "[5 rows x 59 columns]"
      ]
     },
     "execution_count": 224,
     "metadata": {},
     "output_type": "execute_result"
    }
   ],
   "source": [
    "perm_data['isPF'] = perm_data['Pos'].apply(lambda x: 1 if x == 'PF' else 0)\n",
    "perm_data.head()"
   ]
  },
  {
   "cell_type": "code",
   "execution_count": 239,
   "metadata": {},
   "outputs": [],
   "source": [
    "PF = perm_data[perm_data['isPF'] == 1]\n",
    "nPF = perm_data[perm_data['isPF'] == 0]"
   ]
  },
  {
   "cell_type": "code",
   "execution_count": 242,
   "metadata": {},
   "outputs": [
    {
     "name": "stdout",
     "output_type": "stream",
     "text": [
      "Accuracy: 0.7619047619047619\n"
     ]
    }
   ],
   "source": [
    "X = PF.drop(columns=drop + ['UnderPerformed'], axis=1)\n",
    "y = PF.UnderPerformed\n",
    "\n",
    "pl = Pipeline([('dt', KNeighborsClassifier(algorithm='auto', leaf_size=30, metric='manhattan',\n",
    "           metric_params=None, n_jobs=None, n_neighbors=12, p=2,\n",
    "           weights='uniform'))])\n",
    "X_train, X_test, y_train, y_test = train_test_split(X, y, test_size=0.25)\n",
    "pl.fit(X_train, y_train)\n",
    "print (\"Accuracy: %s\" % pl.score(X_test, y_test))"
   ]
  },
  {
   "cell_type": "code",
   "execution_count": 243,
   "metadata": {},
   "outputs": [
    {
     "name": "stdout",
     "output_type": "stream",
     "text": [
      "Accuracy: 0.8186528497409327\n"
     ]
    }
   ],
   "source": [
    "X = nPF.drop(columns=drop + ['UnderPerformed'], axis=1)\n",
    "y = nPF.UnderPerformed\n",
    "\n",
    "pl = Pipeline([('dt', KNeighborsClassifier(algorithm='auto', leaf_size=30, metric='manhattan',\n",
    "           metric_params=None, n_jobs=None, n_neighbors=12, p=2,\n",
    "           weights='uniform'))])\n",
    "X_train, X_test, y_train, y_test = train_test_split(X, y, test_size=0.25)\n",
    "pl.fit(X_train, y_train)\n",
    "print (\"Accuracy: %s\" % pl.score(X_test, y_test))"
   ]
  },
  {
   "cell_type": "markdown",
   "metadata": {},
   "source": [
    "## Inference Analysis:\n",
    "We chose to test demographic parity because of the distribution of player position. Our permutation test shows that there is no significant difference in the model performance on the different groups, as you can see in the similar accuracy scores."
   ]
  },
  {
   "cell_type": "code",
   "execution_count": 238,
   "metadata": {
    "scrolled": true
   },
   "outputs": [
    {
     "data": {
      "image/png": "[encoded data removed]",
      "text/plain": [
       "<Figure size 432x288 with 1 Axes>"
      ]
     },
     "metadata": {
      "needs_background": "light"
     },
     "output_type": "display_data"
    }
   ],
   "source": [
    "tvds.plot(kind='hist', title='p-value: %f' % pval)\n",
    "plt.scatter([obs], [0], s=50, color='r')\n",
    "\n",
    "perc = np.percentile(tvds, 95) # 5% significance level\n",
    "plt.axvline(x=perc, color='y');"
   ]
  },
  {
   "cell_type": "markdown",
   "metadata": {},
   "source": [
    "# NBA Playoffs\n",
    "* **See the main project notebook for instructions to be sure you satisfy the rubric!**\n",
    "* See project 03 for information on the dataset.\n",
    "* A few example prediction questions to pursue are listed below. However, don't limit yourself to them!\n",
    "    * Will a player/team make the playoffs this season? (try training on previous year!)\n",
    "    * Predict players' \"playoff performance\" based on the regular statistics.\n",
    "    * Guess the number of games a team will win in a season based on player statistics (need to aggregate statistics to a team-level).\n",
    "\n",
    "\n",
    "Be careful to justify what information you would know at the \"time of prediction\" and train your model using only those features."
   ]
  },
  {
   "cell_type": "code",
   "execution_count": 167,
   "metadata": {},
   "outputs": [],
   "source": [
    "%matplotlib inline\n",
    "import pandas as pd\n",
    "import numpy as np\n",
    "import util\n",
    "import os\n",
    "\n",
    "from sklearn.preprocessing import FunctionTransformer\n",
    "from sklearn.pipeline import Pipeline\n",
    "\n",
    "from sklearn.neighbors import KNeighborsClassifier\n",
    "from sklearn.model_selection import train_test_split\n",
    "\n",
    "import matplotlib.pyplot as plt\n",
    "\n",
    "import warnings\n",
    "warnings.filterwarnings(\"ignore\")"
   ]
  },
  {
   "cell_type": "markdown",
   "metadata": {},
   "source": [
    "---\n",
    "# Summary of Findings\n",
    "\n",
    "\n",
    "## Introduction\n",
    "---\n",
    "State the prediction problem you are attempting, if it's a classification or regression problem, explain your choice of target variable and evaluation metric (objective).\n",
    "\n",
    "Our classification problem we attempted was determining if NBA players were going to underperform or not during the playoffs. We chose our target variable to be called \"Underperformed\" which took on the value of a 1 or a 0. We had to engineer this target variable by first, defining 'underperformance' as a player having lower statistics during their playoffs compared to the league. We decided to work with the following statistics: '3P%', '2P%', and 'eFG%'. We chose to use statistics that were percents becasue the other statistics were running totals. Since there are less playoff games compared to league games, these statistics could not be as easily caculated to scale. Additionally, using domain knowledge, the difference of we decided to account for some deviation in \"underperformance\"; becasue, for example, a 1% difference in FG% or 3P% is not really considered an \"underperformance\". Therefore, we allowed our for the difference in league and playoff statistics chosen for the model to differ by 10%. The object of our model is to classify underperformance with high accuracy.\n",
    "\n",
    "\n",
    "### Results: Baseline Model\n",
    "---\n",
    "A summary of the baseline model:\n",
    "The number of features, including how many are quantitative, ordinal, and nominal.\n",
    "The model performance (your evaluation metric) and whether you think this it's good or not (and why).\n",
    "\n",
    "We designed a model with the following features: \n",
    "Quantitative columns: Untouched\n",
    "Ordinal Columns: none\n",
    "Nominal Columns:none\n",
    "\n",
    "We chose to use KNeighborsClassifier() as the estimator for our baseline.\n",
    "\n",
    "### Results: Final Model\n",
    "---\n",
    "A summary of the improved model:\n",
    "The features you added and why they are good for your data.\n",
    "The model type you chose; the parameters that ended up performing best; the method of model selection used.\n",
    "\n",
    "After training the baseline model, we got an accuracy of around .8 (or 80 percent). We then ran a GridSearchCV onto our data and then got an accuracy score of .85. With the KNNeighbors classification, we felt like this accuracy score was fairly good and inline with our results that we got from our baseline model. We ran the best parameters and got n neighbors of 18, uniform weights and Manhattan for matrics. With our score of around .8 and a standard deviation average of around .015, we feel like our model is fairly accurate. \n",
    "\n",
    "Analysis: We mainly tried our model on two different classifications. We originally did our classification based on a Decision Tree Classifier. With this model, we kept getting an accuracy score of 1.0. Although that may sound great, we knew that consistently having an accuracy score of 1.0 meant that we were overfitting the model, which is definitely not a good thing. We then changed our model to the KNNeighbors Classification, and with that, we then consistently got an accuracy score of .8. With this, we feel like it would be a better model as it fits the model well, but is not consistently overfitted like the Decision Tree Classifier.  \n",
    "\n",
    "\n",
    "### Results: Fairness Evaluation\n",
    "---\n",
    "Evaluate your model for \"fairness\" on an interesting subset of the data using a permutation test. Justify the parity measure you are using.\n",
    "\n",
    "---"
   ]
  },
  {
   "cell_type": "markdown",
   "metadata": {},
   "source": [
    "## Baseline Model\n",
    "---"
   ]
  },
  {
   "cell_type": "markdown",
   "metadata": {},
   "source": [
    "Since all of our statistics we used in our baseline model were quantatitative, we did not need to use an OrdinalEncoder() or OneHotEncoder()."
   ]
  },
  {
   "cell_type": "code",
   "execution_count": 170,
   "metadata": {},
   "outputs": [
    {
     "data": {
      "text/html": [
       "<div>\n",
       "<style scoped>\n",
       "    .dataframe tbody tr th:only-of-type {\n",
       "        vertical-align: middle;\n",
       "    }\n",
       "\n",
       "    .dataframe tbody tr th {\n",
       "        vertical-align: top;\n",
       "    }\n",
       "\n",
       "    .dataframe thead th {\n",
       "        text-align: right;\n",
       "    }\n",
       "</style>\n",
       "<table border=\"1\" class=\"dataframe\">\n",
       "  <thead>\n",
       "    <tr style=\"text-align: right;\">\n",
       "      <th></th>\n",
       "      <th>Player</th>\n",
       "      <th>Pos</th>\n",
       "      <th>Age</th>\n",
       "      <th>Tm</th>\n",
       "      <th>G_league</th>\n",
       "      <th>GS_league</th>\n",
       "      <th>MP_league</th>\n",
       "      <th>FG_league</th>\n",
       "      <th>FGA_league</th>\n",
       "      <th>FG%_league</th>\n",
       "      <th>...</th>\n",
       "      <th>ORB_playoff</th>\n",
       "      <th>DRB_playoff</th>\n",
       "      <th>TRB_playoff</th>\n",
       "      <th>AST_playoff</th>\n",
       "      <th>STL_playoff</th>\n",
       "      <th>BLK_playoff</th>\n",
       "      <th>TOV_playoff</th>\n",
       "      <th>PF_playoff</th>\n",
       "      <th>PTS_playoff</th>\n",
       "      <th>Year</th>\n",
       "    </tr>\n",
       "  </thead>\n",
       "  <tbody>\n",
       "    <tr>\n",
       "      <th>0</th>\n",
       "      <td>Jeff Adrien</td>\n",
       "      <td>PF</td>\n",
       "      <td>25.0</td>\n",
       "      <td>HOU</td>\n",
       "      <td>8.0</td>\n",
       "      <td>0.0</td>\n",
       "      <td>63.0</td>\n",
       "      <td>7.0</td>\n",
       "      <td>16.0</td>\n",
       "      <td>0.438</td>\n",
       "      <td>...</td>\n",
       "      <td>NaN</td>\n",
       "      <td>NaN</td>\n",
       "      <td>NaN</td>\n",
       "      <td>NaN</td>\n",
       "      <td>NaN</td>\n",
       "      <td>NaN</td>\n",
       "      <td>NaN</td>\n",
       "      <td>NaN</td>\n",
       "      <td>NaN</td>\n",
       "      <td>2012</td>\n",
       "    </tr>\n",
       "    <tr>\n",
       "      <th>1</th>\n",
       "      <td>Arron Afflalo</td>\n",
       "      <td>SG</td>\n",
       "      <td>26.0</td>\n",
       "      <td>DEN</td>\n",
       "      <td>62.0</td>\n",
       "      <td>62.0</td>\n",
       "      <td>2086.0</td>\n",
       "      <td>329.0</td>\n",
       "      <td>699.0</td>\n",
       "      <td>0.471</td>\n",
       "      <td>...</td>\n",
       "      <td>5.0</td>\n",
       "      <td>20.0</td>\n",
       "      <td>25.0</td>\n",
       "      <td>19.0</td>\n",
       "      <td>5.0</td>\n",
       "      <td>2.0</td>\n",
       "      <td>9.0</td>\n",
       "      <td>14.0</td>\n",
       "      <td>76.0</td>\n",
       "      <td>2012</td>\n",
       "    </tr>\n",
       "    <tr>\n",
       "      <th>2</th>\n",
       "      <td>Blake Ahearn</td>\n",
       "      <td>PG</td>\n",
       "      <td>27.0</td>\n",
       "      <td>UTA</td>\n",
       "      <td>4.0</td>\n",
       "      <td>0.0</td>\n",
       "      <td>30.0</td>\n",
       "      <td>4.0</td>\n",
       "      <td>14.0</td>\n",
       "      <td>0.286</td>\n",
       "      <td>...</td>\n",
       "      <td>0.0</td>\n",
       "      <td>0.0</td>\n",
       "      <td>0.0</td>\n",
       "      <td>2.0</td>\n",
       "      <td>0.0</td>\n",
       "      <td>0.0</td>\n",
       "      <td>0.0</td>\n",
       "      <td>0.0</td>\n",
       "      <td>5.0</td>\n",
       "      <td>2012</td>\n",
       "    </tr>\n",
       "    <tr>\n",
       "      <th>3</th>\n",
       "      <td>Solomon Alabi</td>\n",
       "      <td>C</td>\n",
       "      <td>23.0</td>\n",
       "      <td>TOR</td>\n",
       "      <td>14.0</td>\n",
       "      <td>0.0</td>\n",
       "      <td>122.0</td>\n",
       "      <td>13.0</td>\n",
       "      <td>36.0</td>\n",
       "      <td>0.361</td>\n",
       "      <td>...</td>\n",
       "      <td>NaN</td>\n",
       "      <td>NaN</td>\n",
       "      <td>NaN</td>\n",
       "      <td>NaN</td>\n",
       "      <td>NaN</td>\n",
       "      <td>NaN</td>\n",
       "      <td>NaN</td>\n",
       "      <td>NaN</td>\n",
       "      <td>NaN</td>\n",
       "      <td>2012</td>\n",
       "    </tr>\n",
       "    <tr>\n",
       "      <th>4</th>\n",
       "      <td>Cole Aldrich</td>\n",
       "      <td>C</td>\n",
       "      <td>23.0</td>\n",
       "      <td>OKC</td>\n",
       "      <td>26.0</td>\n",
       "      <td>0.0</td>\n",
       "      <td>173.0</td>\n",
       "      <td>22.0</td>\n",
       "      <td>42.0</td>\n",
       "      <td>0.524</td>\n",
       "      <td>...</td>\n",
       "      <td>5.0</td>\n",
       "      <td>8.0</td>\n",
       "      <td>13.0</td>\n",
       "      <td>0.0</td>\n",
       "      <td>0.0</td>\n",
       "      <td>0.0</td>\n",
       "      <td>0.0</td>\n",
       "      <td>3.0</td>\n",
       "      <td>10.0</td>\n",
       "      <td>2012</td>\n",
       "    </tr>\n",
       "  </tbody>\n",
       "</table>\n",
       "<p>5 rows × 55 columns</p>\n",
       "</div>"
      ],
      "text/plain": [
       "          Player Pos   Age   Tm  G_league  GS_league  MP_league  FG_league  \\\n",
       "0    Jeff Adrien  PF  25.0  HOU       8.0        0.0       63.0        7.0   \n",
       "1  Arron Afflalo  SG  26.0  DEN      62.0       62.0     2086.0      329.0   \n",
       "2   Blake Ahearn  PG  27.0  UTA       4.0        0.0       30.0        4.0   \n",
       "3  Solomon Alabi   C  23.0  TOR      14.0        0.0      122.0       13.0   \n",
       "4   Cole Aldrich   C  23.0  OKC      26.0        0.0      173.0       22.0   \n",
       "\n",
       "   FGA_league  FG%_league  ...  ORB_playoff  DRB_playoff  TRB_playoff  \\\n",
       "0        16.0       0.438  ...          NaN          NaN          NaN   \n",
       "1       699.0       0.471  ...          5.0         20.0         25.0   \n",
       "2        14.0       0.286  ...          0.0          0.0          0.0   \n",
       "3        36.0       0.361  ...          NaN          NaN          NaN   \n",
       "4        42.0       0.524  ...          5.0          8.0         13.0   \n",
       "\n",
       "   AST_playoff  STL_playoff  BLK_playoff  TOV_playoff  PF_playoff  \\\n",
       "0          NaN          NaN          NaN          NaN         NaN   \n",
       "1         19.0          5.0          2.0          9.0        14.0   \n",
       "2          2.0          0.0          0.0          0.0         0.0   \n",
       "3          NaN          NaN          NaN          NaN         NaN   \n",
       "4          0.0          0.0          0.0          0.0         3.0   \n",
       "\n",
       "   PTS_playoff  Year  \n",
       "0          NaN  2012  \n",
       "1         76.0  2012  \n",
       "2          5.0  2012  \n",
       "3          NaN  2012  \n",
       "4         10.0  2012  \n",
       "\n",
       "[5 rows x 55 columns]"
      ]
     },
     "execution_count": 170,
     "metadata": {},
     "output_type": "execute_result"
    }
   ],
   "source": [
    "nba = pd.read_csv('data/combined.csv')\n",
    "# load cleaned csv from project3\n",
    "nba = nba.drop(['Unnamed: 0', 'Pos_playoff', 'Age_playoff', 'Tm_playoff'], axis=1).rename(columns={'Pos_league': 'Pos', 'Age_league': 'Age', 'Tm_league': 'Tm'})\n",
    "data = nba.copy()\n",
    "data.head()"
   ]
  },
  {
   "cell_type": "code",
   "execution_count": 171,
   "metadata": {
    "scrolled": true
   },
   "outputs": [
    {
     "data": {
      "text/html": [
       "<div>\n",
       "<style scoped>\n",
       "    .dataframe tbody tr th:only-of-type {\n",
       "        vertical-align: middle;\n",
       "    }\n",
       "\n",
       "    .dataframe tbody tr th {\n",
       "        vertical-align: top;\n",
       "    }\n",
       "\n",
       "    .dataframe thead th {\n",
       "        text-align: right;\n",
       "    }\n",
       "</style>\n",
       "<table border=\"1\" class=\"dataframe\">\n",
       "  <thead>\n",
       "    <tr style=\"text-align: right;\">\n",
       "      <th></th>\n",
       "      <th>Player</th>\n",
       "      <th>Pos</th>\n",
       "      <th>Age</th>\n",
       "      <th>Tm</th>\n",
       "      <th>G_league</th>\n",
       "      <th>GS_league</th>\n",
       "      <th>MP_league</th>\n",
       "      <th>FG_league</th>\n",
       "      <th>FGA_league</th>\n",
       "      <th>FG%_league</th>\n",
       "      <th>...</th>\n",
       "      <th>TRB_playoff</th>\n",
       "      <th>AST_playoff</th>\n",
       "      <th>STL_playoff</th>\n",
       "      <th>BLK_playoff</th>\n",
       "      <th>TOV_playoff</th>\n",
       "      <th>PF_playoff</th>\n",
       "      <th>PTS_playoff</th>\n",
       "      <th>Year</th>\n",
       "      <th>%UnderPerformed</th>\n",
       "      <th>UnderPerformed</th>\n",
       "    </tr>\n",
       "  </thead>\n",
       "  <tbody>\n",
       "    <tr>\n",
       "      <th>0</th>\n",
       "      <td>Jeff Adrien</td>\n",
       "      <td>PF</td>\n",
       "      <td>25.0</td>\n",
       "      <td>HOU</td>\n",
       "      <td>8.0</td>\n",
       "      <td>0.0</td>\n",
       "      <td>63.0</td>\n",
       "      <td>7.0</td>\n",
       "      <td>16.0</td>\n",
       "      <td>0.438</td>\n",
       "      <td>...</td>\n",
       "      <td>NaN</td>\n",
       "      <td>NaN</td>\n",
       "      <td>NaN</td>\n",
       "      <td>NaN</td>\n",
       "      <td>NaN</td>\n",
       "      <td>NaN</td>\n",
       "      <td>NaN</td>\n",
       "      <td>2012</td>\n",
       "      <td>NaN</td>\n",
       "      <td>NaN</td>\n",
       "    </tr>\n",
       "    <tr>\n",
       "      <th>1</th>\n",
       "      <td>Arron Afflalo</td>\n",
       "      <td>SG</td>\n",
       "      <td>26.0</td>\n",
       "      <td>DEN</td>\n",
       "      <td>62.0</td>\n",
       "      <td>62.0</td>\n",
       "      <td>2086.0</td>\n",
       "      <td>329.0</td>\n",
       "      <td>699.0</td>\n",
       "      <td>0.471</td>\n",
       "      <td>...</td>\n",
       "      <td>25.0</td>\n",
       "      <td>19.0</td>\n",
       "      <td>5.0</td>\n",
       "      <td>2.0</td>\n",
       "      <td>9.0</td>\n",
       "      <td>14.0</td>\n",
       "      <td>76.0</td>\n",
       "      <td>2012</td>\n",
       "      <td>-0.107667</td>\n",
       "      <td>1.0</td>\n",
       "    </tr>\n",
       "    <tr>\n",
       "      <th>2</th>\n",
       "      <td>Blake Ahearn</td>\n",
       "      <td>PG</td>\n",
       "      <td>27.0</td>\n",
       "      <td>UTA</td>\n",
       "      <td>4.0</td>\n",
       "      <td>0.0</td>\n",
       "      <td>30.0</td>\n",
       "      <td>4.0</td>\n",
       "      <td>14.0</td>\n",
       "      <td>0.286</td>\n",
       "      <td>...</td>\n",
       "      <td>0.0</td>\n",
       "      <td>2.0</td>\n",
       "      <td>0.0</td>\n",
       "      <td>0.0</td>\n",
       "      <td>0.0</td>\n",
       "      <td>0.0</td>\n",
       "      <td>5.0</td>\n",
       "      <td>2012</td>\n",
       "      <td>0.451333</td>\n",
       "      <td>0.0</td>\n",
       "    </tr>\n",
       "    <tr>\n",
       "      <th>3</th>\n",
       "      <td>Solomon Alabi</td>\n",
       "      <td>C</td>\n",
       "      <td>23.0</td>\n",
       "      <td>TOR</td>\n",
       "      <td>14.0</td>\n",
       "      <td>0.0</td>\n",
       "      <td>122.0</td>\n",
       "      <td>13.0</td>\n",
       "      <td>36.0</td>\n",
       "      <td>0.361</td>\n",
       "      <td>...</td>\n",
       "      <td>NaN</td>\n",
       "      <td>NaN</td>\n",
       "      <td>NaN</td>\n",
       "      <td>NaN</td>\n",
       "      <td>NaN</td>\n",
       "      <td>NaN</td>\n",
       "      <td>NaN</td>\n",
       "      <td>2012</td>\n",
       "      <td>NaN</td>\n",
       "      <td>NaN</td>\n",
       "    </tr>\n",
       "    <tr>\n",
       "      <th>4</th>\n",
       "      <td>Cole Aldrich</td>\n",
       "      <td>C</td>\n",
       "      <td>23.0</td>\n",
       "      <td>OKC</td>\n",
       "      <td>26.0</td>\n",
       "      <td>0.0</td>\n",
       "      <td>173.0</td>\n",
       "      <td>22.0</td>\n",
       "      <td>42.0</td>\n",
       "      <td>0.524</td>\n",
       "      <td>...</td>\n",
       "      <td>13.0</td>\n",
       "      <td>0.0</td>\n",
       "      <td>0.0</td>\n",
       "      <td>0.0</td>\n",
       "      <td>0.0</td>\n",
       "      <td>3.0</td>\n",
       "      <td>10.0</td>\n",
       "      <td>2012</td>\n",
       "      <td>-0.080000</td>\n",
       "      <td>0.0</td>\n",
       "    </tr>\n",
       "  </tbody>\n",
       "</table>\n",
       "<p>5 rows × 57 columns</p>\n",
       "</div>"
      ],
      "text/plain": [
       "          Player Pos   Age   Tm  G_league  GS_league  MP_league  FG_league  \\\n",
       "0    Jeff Adrien  PF  25.0  HOU       8.0        0.0       63.0        7.0   \n",
       "1  Arron Afflalo  SG  26.0  DEN      62.0       62.0     2086.0      329.0   \n",
       "2   Blake Ahearn  PG  27.0  UTA       4.0        0.0       30.0        4.0   \n",
       "3  Solomon Alabi   C  23.0  TOR      14.0        0.0      122.0       13.0   \n",
       "4   Cole Aldrich   C  23.0  OKC      26.0        0.0      173.0       22.0   \n",
       "\n",
       "   FGA_league  FG%_league  ...  TRB_playoff  AST_playoff  STL_playoff  \\\n",
       "0        16.0       0.438  ...          NaN          NaN          NaN   \n",
       "1       699.0       0.471  ...         25.0         19.0          5.0   \n",
       "2        14.0       0.286  ...          0.0          2.0          0.0   \n",
       "3        36.0       0.361  ...          NaN          NaN          NaN   \n",
       "4        42.0       0.524  ...         13.0          0.0          0.0   \n",
       "\n",
       "   BLK_playoff  TOV_playoff  PF_playoff  PTS_playoff  Year  %UnderPerformed  \\\n",
       "0          NaN          NaN         NaN          NaN  2012              NaN   \n",
       "1          2.0          9.0        14.0         76.0  2012        -0.107667   \n",
       "2          0.0          0.0         0.0          5.0  2012         0.451333   \n",
       "3          NaN          NaN         NaN          NaN  2012              NaN   \n",
       "4          0.0          0.0         3.0         10.0  2012        -0.080000   \n",
       "\n",
       "   UnderPerformed  \n",
       "0             NaN  \n",
       "1             1.0  \n",
       "2             0.0  \n",
       "3             NaN  \n",
       "4             0.0  \n",
       "\n",
       "[5 rows x 57 columns]"
      ]
     },
     "execution_count": 171,
     "metadata": {},
     "output_type": "execute_result"
    }
   ],
   "source": [
    "# creating the target variable using the statistics based on percents\n",
    "\n",
    "all_league = ['3P%_league', '2P%_league', 'eFG%_league']\n",
    "\n",
    "all_playoff = ['3P%_playoff', '2P%_playoff', 'eFG%_playoff']\n",
    "\n",
    "def perf(d):    \n",
    "    d['%UnderPerformed'] = pd.DataFrame(d[all_playoff].values - d[all_league].values).mean(axis=1, skipna=True)\n",
    "    d['UnderPerformed'] = d['%UnderPerformed'].apply(lambda x: np.NaN if str(x) == 'nan' else (1 if x < -0.1 else 0))\n",
    "    return d\n",
    "perf(data).head()"
   ]
  },
  {
   "cell_type": "markdown",
   "metadata": {},
   "source": [
    "Because the missingness in the nba dataset is NMAR, dropping the NaN values does not affect the model. The NaN values dropped were from players who either did not make the playoffs, or who did not make any shot attempts in the columns used in our model."
   ]
  },
  {
   "cell_type": "code",
   "execution_count": 172,
   "metadata": {},
   "outputs": [
    {
     "name": "stdout",
     "output_type": "stream",
     "text": [
      "Accuracy: 0.7957446808510639\n"
     ]
    }
   ],
   "source": [
    "# keep only the columns used in our model\n",
    "drop = ['Player', 'Pos', 'Age', 'Tm', 'G_league', 'GS_league', 'MP_league',\n",
    "       'FG_league', 'FGA_league', 'FG%_league', '3P_league', '3PA_league',\n",
    "       '2P_league', '2PA_league', 'FT_league', 'FTA_league', 'FT%_league', \n",
    "       'PF_league', 'G_playoff', 'GS_playoff', 'MP_playoff',\n",
    "       'FG_playoff', 'FGA_playoff', 'FG%_playoff', '3P_playoff', '3PA_playoff',\n",
    "       '2P_playoff', '2PA_playoff', '2P%_playoff','FT_playoff', 'FTA_playoff', 'FT%_playoff',\n",
    "       'PF_playoff','Year']\n",
    "\n",
    "data = perf(data)\n",
    "data = data.dropna() # cant pass NaN values into pipeline\n",
    "\n",
    "X = data.drop(columns=drop + ['UnderPerformed'], axis=1)\n",
    "y = data.UnderPerformed\n",
    "\n",
    "pl = Pipeline([('dt', KNeighborsClassifier())])\n",
    "X_train, X_test, y_train, y_test = train_test_split(X, y, test_size=0.25)\n",
    "pl.fit(X_train, y_train)\n",
    "print (\"Accuracy: %s\" % pl.score(X_test, y_test))"
   ]
  },
  {
   "cell_type": "markdown",
   "metadata": {},
   "source": [
    "For our baseline model, we did not specify any n_neighbors or other parameters. This high accuracy may be the result of overfitting. In the next section we will modify our model to not only improve the accuracy, but also the robustness (i.e. correctly representing the process of interest)."
   ]
  },
  {
   "cell_type": "code",
   "execution_count": 214,
   "metadata": {},
   "outputs": [
    {
     "data": {
      "text/plain": [
       "[('dt',\n",
       "  KNeighborsClassifier(algorithm='auto', leaf_size=30, metric='minkowski',\n",
       "             metric_params=None, n_jobs=None, n_neighbors=5, p=2,\n",
       "             weights='uniform'))]"
      ]
     },
     "execution_count": 214,
     "metadata": {},
     "output_type": "execute_result"
    }
   ],
   "source": [
    "pl.steps"
   ]
  },
  {
   "cell_type": "markdown",
   "metadata": {},
   "source": [
    "## Improvements\n",
    "\n",
    "Using domain knowledge and looking closer at the distribution of the minutes played in league, we wanted to see if only including player statistics if the player played an average of 865 minutes. We picked this number (the 15th percentile) because the distribution of minutes played was relatively similar 0-25th percentile and we didnt want to get rid of too much of our data."
   ]
  },
  {
   "cell_type": "code",
   "execution_count": 208,
   "metadata": {},
   "outputs": [
    {
     "data": {
      "text/plain": [
       "865.0999999999999"
      ]
     },
     "execution_count": 208,
     "metadata": {},
     "output_type": "execute_result"
    }
   ],
   "source": [
    "q75, q25 = np.percentile(data.MP_league, [75 ,15])\n",
    "iqr = q75 - q25\n",
    "q25"
   ]
  },
  {
   "cell_type": "code",
   "execution_count": 209,
   "metadata": {},
   "outputs": [
    {
     "data": {
      "text/plain": [
       "<matplotlib.axes._subplots.AxesSubplot at 0x2190f92f9b0>"
      ]
     },
     "execution_count": 209,
     "metadata": {},
     "output_type": "execute_result"
    },
    {
     "data": {
      "image/png": "[encoded data removed]",
      "text/plain": [
       "<Figure size 432x288 with 1 Axes>"
      ]
     },
     "metadata": {
      "needs_background": "light"
     },
     "output_type": "display_data"
    }
   ],
   "source": [
    "data.MP_league.plot(kind='hist')"
   ]
  },
  {
   "cell_type": "code",
   "execution_count": 210,
   "metadata": {},
   "outputs": [],
   "source": [
    "# add minimum minutes played\n",
    "data['min_minutes'] = ((((data['MP_league'] / data['G_league']) + (data['MP_playoff'] / data['G_playoff'])) / 2) > q25).replace({True: 1, False:0})"
   ]
  },
  {
   "cell_type": "markdown",
   "metadata": {},
   "source": [
    "We also decided to see if dropping players who only played one season would improve our model."
   ]
  },
  {
   "cell_type": "code",
   "execution_count": 211,
   "metadata": {},
   "outputs": [],
   "source": [
    "# get rid of players who only played one season\n",
    "s = data.Player.value_counts() == 1\n",
    "new = data.set_index('Player', drop=False)\n",
    "new = data.loc[[True for name in new.Player if name in s]]"
   ]
  },
  {
   "cell_type": "markdown",
   "metadata": {},
   "source": [
    "## Final Model\n",
    "---"
   ]
  },
  {
   "cell_type": "markdown",
   "metadata": {},
   "source": [
    "For our final model, we used the improved model and did a search (using Grid Search) for the best model and parameters using the KNNClassifier()."
   ]
  },
  {
   "cell_type": "code",
   "execution_count": 212,
   "metadata": {},
   "outputs": [],
   "source": [
    "from sklearn.model_selection import GridSearchCV"
   ]
  },
  {
   "cell_type": "code",
   "execution_count": 204,
   "metadata": {},
   "outputs": [],
   "source": [
    "new = new.dropna()\n",
    "X = new.drop(columns=drop + ['UnderPerformed'], axis=1)\n",
    "y = new.UnderPerformed\n",
    "X_train, X_test, y_train, y_test = train_test_split(X, y, test_size=0.3)"
   ]
  },
  {
   "cell_type": "code",
   "execution_count": 215,
   "metadata": {},
   "outputs": [
    {
     "data": {
      "text/plain": [
       "{'metric': 'manhattan', 'n_neighbors': 12, 'weights': 'uniform'}"
      ]
     },
     "execution_count": 215,
     "metadata": {},
     "output_type": "execute_result"
    }
   ],
   "source": [
    "# How many combinations are there to search through?\n",
    "\n",
    "parameters = {\n",
    "    'n_neighbors': [2,4,5,6,7,9,10,11,12,13,14,15,18,19], \n",
    "    'weights':['uniform', 'distance'],\n",
    "    'metric':['euclidean', 'manhattan']\n",
    "}\n",
    "clf = GridSearchCV(KNeighborsClassifier(), parameters, cv=5)\n",
    "clf.fit(X_train, y_train)\n",
    "clf.best_params_"
   ]
  },
  {
   "cell_type": "code",
   "execution_count": 216,
   "metadata": {},
   "outputs": [
    {
     "data": {
      "text/plain": [
       "KNeighborsClassifier(algorithm='auto', leaf_size=30, metric='manhattan',\n",
       "           metric_params=None, n_jobs=None, n_neighbors=12, p=2,\n",
       "           weights='uniform')"
      ]
     },
     "execution_count": 216,
     "metadata": {},
     "output_type": "execute_result"
    }
   ],
   "source": [
    "clf_best = clf.best_estimator_\n",
    "clf_best"
   ]
  },
  {
   "cell_type": "markdown",
   "metadata": {},
   "source": [
    "We found that the best patameter was: {'metric': 'manhattan', 'n_neighbors': 12, 'weights': 'uniform'}.\n",
    "But was the \"best parameter\" the only \"best choice\"?\n",
    "\n",
    "Below we ploted the histogram of scores across all models.As you can see there were a lot of models that had relatively accuracy. These high values imply there are actually many good model choices; and our model is robust."
   ]
  },
  {
   "cell_type": "code",
   "execution_count": 217,
   "metadata": {},
   "outputs": [
    {
     "data": {
      "image/png": "[encoded data removed]",
      "text/plain": [
       "<Figure size 432x288 with 1 Axes>"
      ]
     },
     "metadata": {
      "needs_background": "light"
     },
     "output_type": "display_data"
    }
   ],
   "source": [
    "# Each x-value is the score of a different model, corresponding to a choice of parameters\n",
    "\n",
    "plt.hist(clf.cv_results_['mean_test_score'])\n",
    "plt.suptitle('accuracies on validation set for CV');"
   ]
  },
  {
   "cell_type": "markdown",
   "metadata": {},
   "source": [
    "We also plotted the histogram of standard deviations for the CVs. As you can see there were also many small numbers, implying most parameters give stable models."
   ]
  },
  {
   "cell_type": "code",
   "execution_count": 218,
   "metadata": {},
   "outputs": [
    {
     "data": {
      "image/png": "[encoded data removed]",
      "text/plain": [
       "<Figure size 432x288 with 1 Axes>"
      ]
     },
     "metadata": {
      "needs_background": "light"
     },
     "output_type": "display_data"
    }
   ],
   "source": [
    "# Each x-value is the standard deviation for the 5-fold CV for a single model, corresponding to a choice of parameters\n",
    "plt.hist(clf.cv_results_['std_test_score'])\n",
    "plt.suptitle('std deviation of CV scores');"
   ]
  },
  {
   "cell_type": "markdown",
   "metadata": {},
   "source": [
    "## Fairness Evaluation\n",
    "---"
   ]
  },
  {
   "cell_type": "code",
   "execution_count": 162,
   "metadata": {},
   "outputs": [],
   "source": [
    "# Evaluate your model for \"fairness\" on an interesting subset of the data using a permutation test. \n",
    "# Justify the parity measure you are using.\n",
    "from sklearn import metrics"
   ]
  },
  {
   "cell_type": "code",
   "execution_count": 222,
   "metadata": {},
   "outputs": [
    {
     "data": {
      "text/plain": [
       "SG       262\n",
       "PG       226\n",
       "SF       198\n",
       "PF       168\n",
       "C         73\n",
       "SF-SG      3\n",
       "SG-PG      3\n",
       "SG-SF      2\n",
       "PF-C       2\n",
       "PG-SG      1\n",
       "Name: Pos, dtype: int64"
      ]
     },
     "execution_count": 222,
     "metadata": {},
     "output_type": "execute_result"
    }
   ],
   "source": [
    "perm_data = data.copy()\n",
    "perm_data.Pos.value_counts()"
   ]
  },
  {
   "cell_type": "markdown",
   "metadata": {},
   "source": [
    "To evaluate our model for fairness, we chose to test demographic parity. After looking at the distribution of 'Position' in the NBA dataset, we noticed that there was an uneven distribution. We chose to run a permutation test to see if the proportion of the population for which a player is classified as 'underperforming'  is the same both within the group, players of position 'PF' (Power Forward), and outside the group."
   ]
  },
  {
   "cell_type": "code",
   "execution_count": 224,
   "metadata": {
    "scrolled": false
   },
   "outputs": [
    {
     "data": {
      "text/html": [
       "<div>\n",
       "<style scoped>\n",
       "    .dataframe tbody tr th:only-of-type {\n",
       "        vertical-align: middle;\n",
       "    }\n",
       "\n",
       "    .dataframe tbody tr th {\n",
       "        vertical-align: top;\n",
       "    }\n",
       "\n",
       "    .dataframe thead th {\n",
       "        text-align: right;\n",
       "    }\n",
       "</style>\n",
       "<table border=\"1\" class=\"dataframe\">\n",
       "  <thead>\n",
       "    <tr style=\"text-align: right;\">\n",
       "      <th></th>\n",
       "      <th>Player</th>\n",
       "      <th>Pos</th>\n",
       "      <th>Age</th>\n",
       "      <th>Tm</th>\n",
       "      <th>G_league</th>\n",
       "      <th>GS_league</th>\n",
       "      <th>MP_league</th>\n",
       "      <th>FG_league</th>\n",
       "      <th>FGA_league</th>\n",
       "      <th>FG%_league</th>\n",
       "      <th>...</th>\n",
       "      <th>STL_playoff</th>\n",
       "      <th>BLK_playoff</th>\n",
       "      <th>TOV_playoff</th>\n",
       "      <th>PF_playoff</th>\n",
       "      <th>PTS_playoff</th>\n",
       "      <th>Year</th>\n",
       "      <th>%UnderPerformed</th>\n",
       "      <th>UnderPerformed</th>\n",
       "      <th>min_minutes</th>\n",
       "      <th>isPF</th>\n",
       "    </tr>\n",
       "  </thead>\n",
       "  <tbody>\n",
       "    <tr>\n",
       "      <th>1</th>\n",
       "      <td>Arron Afflalo</td>\n",
       "      <td>SG</td>\n",
       "      <td>26.0</td>\n",
       "      <td>DEN</td>\n",
       "      <td>62.0</td>\n",
       "      <td>62.0</td>\n",
       "      <td>2086.0</td>\n",
       "      <td>329.0</td>\n",
       "      <td>699.0</td>\n",
       "      <td>0.471</td>\n",
       "      <td>...</td>\n",
       "      <td>5.0</td>\n",
       "      <td>2.0</td>\n",
       "      <td>9.0</td>\n",
       "      <td>14.0</td>\n",
       "      <td>76.0</td>\n",
       "      <td>2012</td>\n",
       "      <td>-0.107667</td>\n",
       "      <td>1.0</td>\n",
       "      <td>0</td>\n",
       "      <td>0</td>\n",
       "    </tr>\n",
       "    <tr>\n",
       "      <th>7</th>\n",
       "      <td>Ray Allen*</td>\n",
       "      <td>SG</td>\n",
       "      <td>36.0</td>\n",
       "      <td>BOS</td>\n",
       "      <td>46.0</td>\n",
       "      <td>42.0</td>\n",
       "      <td>1565.0</td>\n",
       "      <td>226.0</td>\n",
       "      <td>493.0</td>\n",
       "      <td>0.458</td>\n",
       "      <td>...</td>\n",
       "      <td>17.0</td>\n",
       "      <td>2.0</td>\n",
       "      <td>17.0</td>\n",
       "      <td>41.0</td>\n",
       "      <td>192.0</td>\n",
       "      <td>2012</td>\n",
       "      <td>-0.064000</td>\n",
       "      <td>0.0</td>\n",
       "      <td>0</td>\n",
       "      <td>0</td>\n",
       "    </tr>\n",
       "    <tr>\n",
       "      <th>8</th>\n",
       "      <td>Tony Allen</td>\n",
       "      <td>SG</td>\n",
       "      <td>30.0</td>\n",
       "      <td>MEM</td>\n",
       "      <td>58.0</td>\n",
       "      <td>57.0</td>\n",
       "      <td>1525.0</td>\n",
       "      <td>210.0</td>\n",
       "      <td>448.0</td>\n",
       "      <td>0.469</td>\n",
       "      <td>...</td>\n",
       "      <td>9.0</td>\n",
       "      <td>7.0</td>\n",
       "      <td>10.0</td>\n",
       "      <td>21.0</td>\n",
       "      <td>48.0</td>\n",
       "      <td>2012</td>\n",
       "      <td>-0.138333</td>\n",
       "      <td>1.0</td>\n",
       "      <td>0</td>\n",
       "      <td>0</td>\n",
       "    </tr>\n",
       "    <tr>\n",
       "      <th>14</th>\n",
       "      <td>James Anderson</td>\n",
       "      <td>SG</td>\n",
       "      <td>22.0</td>\n",
       "      <td>SAS</td>\n",
       "      <td>51.0</td>\n",
       "      <td>2.0</td>\n",
       "      <td>603.0</td>\n",
       "      <td>66.0</td>\n",
       "      <td>174.0</td>\n",
       "      <td>0.379</td>\n",
       "      <td>...</td>\n",
       "      <td>1.0</td>\n",
       "      <td>0.0</td>\n",
       "      <td>0.0</td>\n",
       "      <td>1.0</td>\n",
       "      <td>11.0</td>\n",
       "      <td>2012</td>\n",
       "      <td>0.100000</td>\n",
       "      <td>0.0</td>\n",
       "      <td>0</td>\n",
       "      <td>0</td>\n",
       "    </tr>\n",
       "    <tr>\n",
       "      <th>15</th>\n",
       "      <td>Ryan Anderson</td>\n",
       "      <td>PF</td>\n",
       "      <td>23.0</td>\n",
       "      <td>ORL</td>\n",
       "      <td>61.0</td>\n",
       "      <td>61.0</td>\n",
       "      <td>1964.0</td>\n",
       "      <td>332.0</td>\n",
       "      <td>757.0</td>\n",
       "      <td>0.439</td>\n",
       "      <td>...</td>\n",
       "      <td>3.0</td>\n",
       "      <td>2.0</td>\n",
       "      <td>9.0</td>\n",
       "      <td>22.0</td>\n",
       "      <td>48.0</td>\n",
       "      <td>2012</td>\n",
       "      <td>-0.115333</td>\n",
       "      <td>1.0</td>\n",
       "      <td>0</td>\n",
       "      <td>1</td>\n",
       "    </tr>\n",
       "  </tbody>\n",
       "</table>\n",
       "<p>5 rows × 59 columns</p>\n",
       "</div>"
      ],
      "text/plain": [
       "            Player Pos   Age   Tm  G_league  GS_league  MP_league  FG_league  \\\n",
       "1    Arron Afflalo  SG  26.0  DEN      62.0       62.0     2086.0      329.0   \n",
       "7       Ray Allen*  SG  36.0  BOS      46.0       42.0     1565.0      226.0   \n",
       "8       Tony Allen  SG  30.0  MEM      58.0       57.0     1525.0      210.0   \n",
       "14  James Anderson  SG  22.0  SAS      51.0        2.0      603.0       66.0   \n",
       "15   Ryan Anderson  PF  23.0  ORL      61.0       61.0     1964.0      332.0   \n",
       "\n",
       "    FGA_league  FG%_league  ...  STL_playoff  BLK_playoff  TOV_playoff  \\\n",
       "1        699.0       0.471  ...          5.0          2.0          9.0   \n",
       "7        493.0       0.458  ...         17.0          2.0         17.0   \n",
       "8        448.0       0.469  ...          9.0          7.0         10.0   \n",
       "14       174.0       0.379  ...          1.0          0.0          0.0   \n",
       "15       757.0       0.439  ...          3.0          2.0          9.0   \n",
       "\n",
       "    PF_playoff  PTS_playoff  Year  %UnderPerformed  UnderPerformed  \\\n",
       "1         14.0         76.0  2012        -0.107667             1.0   \n",
       "7         41.0        192.0  2012        -0.064000             0.0   \n",
       "8         21.0         48.0  2012        -0.138333             1.0   \n",
       "14         1.0         11.0  2012         0.100000             0.0   \n",
       "15        22.0         48.0  2012        -0.115333             1.0   \n",
       "\n",
       "    min_minutes  isPF  \n",
       "1             0     0  \n",
       "7             0     0  \n",
       "8             0     0  \n",
       "14            0     0  \n",
       "15            0     1  \n",
       "\n",
       "[5 rows x 59 columns]"
      ]
     },
     "execution_count": 224,
     "metadata": {},
     "output_type": "execute_result"
    }
   ],
   "source": [
    "perm_data['isPF'] = perm_data['Pos'].apply(lambda x: 1 if x == 'PF' else 0)\n",
    "perm_data.head()"
   ]
  },
  {
   "cell_type": "code",
   "execution_count": 239,
   "metadata": {},
   "outputs": [],
   "source": [
    "PF = perm_data[perm_data['isPF'] == 1]\n",
    "nPF = perm_data[perm_data['isPF'] == 0]"
   ]
  },
  {
   "cell_type": "code",
   "execution_count": 242,
   "metadata": {},
   "outputs": [
    {
     "name": "stdout",
     "output_type": "stream",
     "text": [
      "Accuracy: 0.7619047619047619\n"
     ]
    }
   ],
   "source": [
    "X = PF.drop(columns=drop + ['UnderPerformed'], axis=1)\n",
    "y = PF.UnderPerformed\n",
    "\n",
    "pl = Pipeline([('dt', KNeighborsClassifier(algorithm='auto', leaf_size=30, metric='manhattan',\n",
    "           metric_params=None, n_jobs=None, n_neighbors=12, p=2,\n",
    "           weights='uniform'))])\n",
    "X_train, X_test, y_train, y_test = train_test_split(X, y, test_size=0.25)\n",
    "pl.fit(X_train, y_train)\n",
    "print (\"Accuracy: %s\" % pl.score(X_test, y_test))"
   ]
  },
  {
   "cell_type": "code",
   "execution_count": 243,
   "metadata": {},
   "outputs": [
    {
     "name": "stdout",
     "output_type": "stream",
     "text": [
      "Accuracy: 0.8186528497409327\n"
     ]
    }
   ],
   "source": [
    "X = nPF.drop(columns=drop + ['UnderPerformed'], axis=1)\n",
    "y = nPF.UnderPerformed\n",
    "\n",
    "pl = Pipeline([('dt', KNeighborsClassifier(algorithm='auto', leaf_size=30, metric='manhattan',\n",
    "           metric_params=None, n_jobs=None, n_neighbors=12, p=2,\n",
    "           weights='uniform'))])\n",
    "X_train, X_test, y_train, y_test = train_test_split(X, y, test_size=0.25)\n",
    "pl.fit(X_train, y_train)\n",
    "print (\"Accuracy: %s\" % pl.score(X_test, y_test))"
   ]
  },
  {
   "cell_type": "markdown",
   "metadata": {},
   "source": [
    "## Inference Analysis:\n",
    "We chose to test demographic parity because of the distribution of player position. Our permutation test shows that there is no significant difference in the model performance on the different groups, as you can see in the similar accuracy scores."
   ]
  },
  {
   "cell_type": "code",
   "execution_count": 238,
   "metadata": {
    "scrolled": true
   },
   "outputs": [
    {
     "data": {
      "image/png": "[encoded data removed]",
      "text/plain": [
       "<Figure size 432x288 with 1 Axes>"
      ]
     },
     "metadata": {
      "needs_background": "light"
     },
     "output_type": "display_data"
    }
   ],
   "source": [
    "tvds.plot(kind='hist', title='p-value: %f' % pval)\n",
    "plt.scatter([obs], [0], s=50, color='r')\n",
    "\n",
    "perc = np.percentile(tvds, 95) # 5% significance level\n",
    "plt.axvline(x=perc, color='y');"
   ]
  }
 ],
 "metadata": {
  "kernelspec": {
   "display_name": "Python 3",
   "language": "python",
   "name": "python3"
  },
  "language_info": {
   "codemirror_mode": {
    "name": "ipython",
    "version": 3
   },
   "file_extension": ".py",
   "mimetype": "text/x-python",
   "name": "python",
   "nbconvert_exporter": "python",
   "pygments_lexer": "ipython3",
   "version": "3.7.3"
  }
 },
 "nbformat": 4,
 "nbformat_minor": 2
}
